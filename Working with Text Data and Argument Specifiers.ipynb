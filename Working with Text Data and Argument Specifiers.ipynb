{
 "cells": [
  {
   "cell_type": "code",
   "execution_count": 1,
   "id": "db86672b",
   "metadata": {},
   "outputs": [
    {
     "name": "stdout",
     "output_type": "stream",
     "text": [
      "This item is from product category \"A\".\n"
     ]
    }
   ],
   "source": [
    "product_category = 'A'\n",
    "print('This item is from product category \"%s\".'% product_category)"
   ]
  },
  {
   "cell_type": "code",
   "execution_count": 2,
   "id": "bdc04699",
   "metadata": {},
   "outputs": [
    {
     "name": "stdout",
     "output_type": "stream",
     "text": [
      "This item is from product category \"B\".\n"
     ]
    }
   ],
   "source": [
    "product_category = ['A', 'B']\n",
    "print('This item is from product category \"%s\".'% product_category[1])"
   ]
  },
  {
   "cell_type": "code",
   "execution_count": 3,
   "id": "8b8b38b7",
   "metadata": {},
   "outputs": [
    {
     "name": "stdout",
     "output_type": "stream",
     "text": [
      "This item is from product category \"600\".\n"
     ]
    }
   ],
   "source": [
    "quantities = [500,600]\n",
    "print('This item is from product category \"%s\".'% quantities[1])"
   ]
  },
  {
   "cell_type": "code",
   "execution_count": 4,
   "id": "16f36019",
   "metadata": {},
   "outputs": [
    {
     "name": "stdout",
     "output_type": "stream",
     "text": [
      "We currently have 500 availbale units of this item.\n"
     ]
    }
   ],
   "source": [
    "print('We currently have %d availbale units of this item.'% quantities[0])"
   ]
  },
  {
   "cell_type": "code",
   "execution_count": 5,
   "id": "74b9c816",
   "metadata": {},
   "outputs": [
    {
     "name": "stdout",
     "output_type": "stream",
     "text": [
      "this stock costs $60.350000 per share.\n"
     ]
    }
   ],
   "source": [
    "stock_share_price_list = [40.50, 60.35]\n",
    "print(\"this stock costs $%f per share.\" % stock_share_price_list[1])"
   ]
  },
  {
   "cell_type": "code",
   "execution_count": 6,
   "id": "56350f95",
   "metadata": {},
   "outputs": [
    {
     "name": "stdout",
     "output_type": "stream",
     "text": [
      "Currently, we have 500 units of catgory \"A\" products in store.\n"
     ]
    }
   ],
   "source": [
    "i = 0\n",
    "print(\"Currently, we have %d units of catgory \\\"%s\\\" products in store.\" % (quantities[i], product_category[i]))"
   ]
  },
  {
   "cell_type": "code",
   "execution_count": null,
   "id": "7bd6c945",
   "metadata": {},
   "outputs": [],
   "source": []
  }
 ],
 "metadata": {
  "kernelspec": {
   "display_name": "Python 3 (ipykernel)",
   "language": "python",
   "name": "python3"
  },
  "language_info": {
   "codemirror_mode": {
    "name": "ipython",
    "version": 3
   },
   "file_extension": ".py",
   "mimetype": "text/x-python",
   "name": "python",
   "nbconvert_exporter": "python",
   "pygments_lexer": "ipython3",
   "version": "3.9.12"
  }
 },
 "nbformat": 4,
 "nbformat_minor": 5
}
